{
 "cells": [
  {
   "cell_type": "code",
   "execution_count": 1,
   "metadata": {},
   "outputs": [],
   "source": [
    "import pandas as pd "
   ]
  },
  {
   "cell_type": "code",
   "execution_count": null,
   "metadata": {},
   "outputs": [],
   "source": [
    "# Generate different inputs and/or adapt the original one \n",
    "df = pd.read_excel('input/RG_PVP_07.02.2023_BNL_AMCO.xlsx')\n",
    "\n",
    "#df = df[0:99]\n",
    "df = df.loc[1389:]\n",
    "\n",
    "df[['procedura', 'anno']] = df['ruolo'].str.split('/', expand=True)\n",
    "\n",
    "# Add 'Tribunale di ' to the beginning of each value in the 'TRIBUNALE' column\n",
    "df['TRIBUNALE'] = 'Tribunale di ' + df['TRIBUNALE'].astype(str)\n",
    "\n",
    "df = df[['TRIBUNALE', 'procedura', 'anno']] \n",
    "\n",
    "print(df)\n",
    "\n",
    "#CHANGE THE NAMEEEEEEEE\n",
    "df.to_excel('input/1389toEND.xlsx', index=False)"
   ]
  },
  {
   "cell_type": "code",
   "execution_count": 20,
   "metadata": {},
   "outputs": [
    {
     "data": {
      "text/plain": [
       "846"
      ]
     },
     "execution_count": 20,
     "metadata": {},
     "output_type": "execute_result"
    }
   ],
   "source": [
    "#If different inputs were used, see the combined amount makes sense\n",
    "done1 = pd.read_excel('output_toEND.xlsx')\n",
    "\n",
    "done2 = pd.read_excel('output/outputTO1388.xlsx')\n",
    "len(done1['id'].unique()) + len(done2['id'].unique())"
   ]
  },
  {
   "cell_type": "code",
   "execution_count": 46,
   "metadata": {},
   "outputs": [],
   "source": [
    "# JOIN THE GIVEN INPUT WITH THE OUTPUT (IN CASE EXTRA COLUMNS WERE GIVEN)\n",
    "from source.functions import dicToExcel, common_mistakes\n",
    "df = pd.read_excel('input/RG_PVP_07.02.2023_BNL_AMCO.xlsx')\n",
    "df[['procedure', 'anno']] = df['ruolo'].str.split('/', expand=True)\n",
    "\n",
    "# Add 'Tribunale di ' to the beginning of each value in the 'TRIBUNALE' column\n",
    "df['TRIBUNALE'] = 'Tribunale di ' + df['TRIBUNALE'].astype(str)\n",
    "\n",
    "df['TRIBUNALE'] = df['TRIBUNALE'].astype(str).str.lower()\n",
    "df['TRIBUNALE'] = df['TRIBUNALE'].map(common_mistakes)\n",
    "\n",
    "output = pd.read_excel('output/output_toEND.xlsx')\n",
    "output[['TRIBUNALE', 'procedure', 'anno']] = output['id'].str.split('_', expand=True)\n",
    "\n",
    "joined_output = df.merge(output, on=['TRIBUNALE', 'procedure', 'anno'], how='outer')\n",
    "\n",
    "cols = output.columns.drop(['TRIBUNALE', 'procedure', 'anno'])\n",
    "df_with_output = joined_output.dropna(subset=cols, how='all')\n",
    "df_without_output = joined_output[joined_output[cols].isna().all(axis=1)]\n",
    "\n",
    "#Comment the next three lines to do the check that's below\n",
    "order = ['num_prat', 'codiceproc', 'procedura', 'original ruolo', 'ruolo','TRIBUNALE', 'PORTAFOGLIO', 'Lotto', 'Data Vendita', 'Offerta minima', 'Rialzo minimo', \"Prezzo base d'asta\", 'Tipologia', 'Address']\n",
    "df_with_output = df_with_output[order]\n",
    "df_without_output = df_without_output[df.columns.drop(['procedure', 'anno'])]\n",
    "\n",
    "with pd.ExcelWriter('output/output_file.xlsx', engine='xlsxwriter') as writer:\n",
    "    # Write df_with_output to a sheet named 'procedure_valide'\n",
    "    df_with_output.to_excel(writer, sheet_name='procedure_valide', index=False)\n",
    "    \n",
    "    # Access the xlsxwriter workbook and worksheet objects for 'procedure_valide' sheet\n",
    "    worksheet_with_output = writer.sheets['procedure_valide']\n",
    "    \n",
    "    # Adjust the column widths in the 'procedure_valide' sheet\n",
    "    for i, col in enumerate(df_with_output.columns):\n",
    "        max_length = max(df_with_output[col].astype(str).apply(len).max(), len(col))\n",
    "        worksheet_with_output.set_column(i, i, max_length)\n",
    "    \n",
    "    # Write df_without_output to a new sheet named 'procedure_vuote'\n",
    "    df_without_output.to_excel(writer, sheet_name='procedure_vuote', index=False)\n",
    "    \n",
    "    # Access the xlsxwriter workbook and worksheet objects for 'procedure_vuote' sheet\n",
    "    worksheet_without_output = writer.sheets['procedure_vuote']\n",
    "    \n",
    "    # Adjust the column widths in the 'procedure_vuote' sheet\n",
    "    for i, col in enumerate(df_without_output.columns):\n",
    "        max_length = max(df_without_output[col].astype(str).apply(len).max(), len(col))\n",
    "        worksheet_without_output.set_column(i, i, max_length)\n",
    "    "
   ]
  },
  {
   "cell_type": "code",
   "execution_count": 45,
   "metadata": {},
   "outputs": [
    {
     "name": "stdout",
     "output_type": "stream",
     "text": [
      "Series([], Name: id, dtype: object)\n"
     ]
    }
   ],
   "source": [
    "# Check if any outputs were left out\n",
    "df_first= pd.read_excel('output/output_toEND.xlsx')\n",
    "df_sec= pd.read_excel('output/output_file.xlsx')\n",
    "\n",
    "print(df_first[~df_first['id'].isin(df_sec['id'])]['id'])"
   ]
  },
  {
   "cell_type": "code",
   "execution_count": 12,
   "metadata": {},
   "outputs": [
    {
     "name": "stdout",
     "output_type": "stream",
     "text": [
      "Differences:\n",
      "                              TRIBUNALE procedura  anno      _merge\n",
      "0                     tribunale di roma   0000051  2024   left_only\n",
      "1                 tribunale di velletri   0000468  2023   left_only\n",
      "5            tribunale di vibo valentia         1  2024   left_only\n",
      "8     tribunale di macerata ex camerino        10  2012   left_only\n",
      "17                   tribunale di prato       101  2022   left_only\n",
      "...                                 ...       ...   ...         ...\n",
      "1407           tribunale di napoli nord       399  2023  right_only\n",
      "1408              tribunale di velletri       468  2023  right_only\n",
      "1409                 tribunale di forli      1489  2021  right_only\n",
      "1410               tribunale di perugia      2878  2015  right_only\n",
      "1411               tribunale di perugia      5261  2014  right_only\n",
      "\n",
      "[145 rows x 4 columns]\n"
     ]
    }
   ],
   "source": [
    "# IN CASE OF ERROR IN THE DOWNLOAD SCRAPING:\n",
    "from date_utils import today\n",
    "import os \n",
    "from source.functions import read_or_create_tribunales, common_mistakes\n",
    "TRIBUNALE_PATH = os.environ.get(\"TRIBUNALE_PATH\")\n",
    "today = '08_02_2024'\n",
    "df = pd.read_excel('input/startTO1388.xlsx')\n",
    "\n",
    "df = df[['TRIBUNALE', 'procedura', 'anno']] \n",
    "df['TRIBUNALE'] = df['TRIBUNALE'].astype(str).str.lower()\n",
    "df['TRIBUNALE'] = df['TRIBUNALE'].map(common_mistakes)\n",
    "\n",
    "\n",
    "directory_path = f'output/{today}/made'\n",
    "loaded_dict = read_or_create_tribunales(TRIBUNALE_PATH)\n",
    "made = pd.DataFrame()\n",
    "\n",
    "for file in os.listdir(directory_path):\n",
    "    tribunale_len, procedura, anno = map(str, file.rstrip('.html').split('_'))\n",
    "    tribunale_len = len(tribunale_len)\n",
    "    n_tribunale, procedura, anno = map(int, file.rstrip('.html').split('_'))\n",
    "    n_tribunale = f'{n_tribunale:0{tribunale_len}d}'  # I put back the 0s it might have taken from the start in the conversion\n",
    "    tribunale = list(loaded_dict.keys())[list(loaded_dict.values()).index(n_tribunale)]\n",
    "    add = pd.DataFrame([(tribunale, procedura, anno)], columns=['TRIBUNALE', 'procedura', 'anno'])\n",
    "    made = pd.concat([made, add], ignore_index=True)\n",
    "\n",
    "for file in os.listdir(f'output/{today}/empty'):\n",
    "    tribunale_len, procedura, anno = map(str, file.rstrip('.html').split('_'))\n",
    "    tribunale_len = len(tribunale_len)\n",
    "    n_tribunale, procedura, anno = map(int, file.rstrip('.html').split('_'))\n",
    "    n_tribunale = f'{n_tribunale:0{tribunale_len}d}'  # I put back the 0s it might have taken from the start in the conversion\n",
    "    tribunale = list(loaded_dict.keys())[list(loaded_dict.values()).index(n_tribunale)]\n",
    "    add = pd.DataFrame([(tribunale, procedura, anno)], columns=['TRIBUNALE', 'procedura', 'anno'])\n",
    "    made = pd.concat([made, add], ignore_index=True)\n",
    "\n",
    "#prev = pd.read_excel('prev.xlsx')\n",
    "made['TRIBUNALE'] = made['TRIBUNALE'].astype(str).str.lower()\n",
    "df = df.sort_values(by=['procedura', 'anno'])  # replace 'your_sort_column' with the actual column name\n",
    "made = made.sort_values(by=['procedura', 'anno'])  # replace 'your_sort_column' with the actual column name\n",
    "\n",
    "# Resetting the index after sorting\n",
    "df = df.reset_index(drop=True)\n",
    "made = made.reset_index(drop=True)\n",
    "\n",
    "df['procedura'] = df['procedura'].astype(str)\n",
    "df['anno'] = df['anno'].astype(str)\n",
    "made['procedura'] = made['procedura'].astype(str)\n",
    "made['anno'] = made['anno'].astype(str)\n",
    "\n",
    "# Merge the DataFrames\n",
    "merged_df = pd.merge(df, made, how='outer', indicator=True).loc[lambda x : x['_merge'] != 'both']\n",
    "\n",
    "\n",
    "print(\"Differences:\")\n",
    "print(merged_df)\n",
    "merged_df.to_excel('differences.xlsx')"
   ]
  }
 ],
 "metadata": {
  "kernelspec": {
   "display_name": "myenv",
   "language": "python",
   "name": "python3"
  },
  "language_info": {
   "codemirror_mode": {
    "name": "ipython",
    "version": 3
   },
   "file_extension": ".py",
   "mimetype": "text/x-python",
   "name": "python",
   "nbconvert_exporter": "python",
   "pygments_lexer": "ipython3",
   "version": "3.11.5"
  }
 },
 "nbformat": 4,
 "nbformat_minor": 2
}
